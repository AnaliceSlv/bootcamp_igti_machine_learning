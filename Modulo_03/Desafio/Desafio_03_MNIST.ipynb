{
 "cells": [
  {
   "cell_type": "markdown",
   "metadata": {},
   "source": [
    "# Desafio - IGTI - Modulo 03 - MNIST\n",
    "- Autor: Rodrigo de Lima Oliveira\n",
    "- Data : 18/06/2020\n",
    "- LinkedIn: https://www.linkedin.com/in/rodrigolima82/"
   ]
  },
  {
   "cell_type": "markdown",
   "metadata": {},
   "source": [
    "## Descrição do Problema"
   ]
  },
  {
   "cell_type": "markdown",
   "metadata": {},
   "source": [
    "**A base de dados MNIST**\n",
    "\n",
    "Um dos mais clássicos conjuntos de dados para o treinamento e benchmark de algoritmos de classificação é o MNIST. Ele é composto por 70.000 imagens (60 mil de treino, 10 mil de teste) de números de 0 a 9 escritos à mão, já previamente classificados. Os números são sempre apresentados individualmente.\n",
    "\n",
    "![title](image.png)\n",
    "\n",
    "Suponha que você trabalha em uma empresa que faz a leitura automática (OCR) de formulários e cheques para instituições financeiras, e que a você foi atribuído o trabalho de desenvolver um programa que faça a leitura de números escritos à mão nesses documentos. Um tratamento prévio das imagens já entrega a você os números individualmente em imagens de resolução similar.\n",
    "\n",
    "Cabe a você usar o aprendizado de máquina para ler cada imagem e dizer, com margem de segurança alta, qual número foi escrito ali. Por falta de dados de teste, você usará o MNIST para treinar o seu algoritmo. Se seu algoritmo não tiver resultados excelentes, os números serão enviados para leitura e digitação manual, feita por operadores humanos, uma operação cara e pouco escalável.\n",
    "\n",
    "**Referências:**\n",
    "\n",
    "MNIST: http://yann.lecun.com/exdb/mnist/ (acesso em 09/06/2020)\n",
    "\n",
    "Imagem: http://blog.welcomege.com/mnist-database/ (acesso em 29/04/2018)"
   ]
  },
  {
   "cell_type": "markdown",
   "metadata": {},
   "source": [
    "## Carregando as bibliotecas"
   ]
  },
  {
   "cell_type": "code",
   "execution_count": 1,
   "metadata": {
    "_cell_guid": "b1076dfc-b9ad-4769-8c92-a6c4dae69d19",
    "_uuid": "8f2839f25d086af736a60e9eeb907d3b93b6e0e5"
   },
   "outputs": [
    {
     "name": "stderr",
     "output_type": "stream",
     "text": [
      "Using TensorFlow backend.\n"
     ]
    }
   ],
   "source": [
    "# Imports de avisos\n",
    "import sys\n",
    "import warnings\n",
    "import matplotlib.cbook\n",
    "if not sys.warnoptions:\n",
    "    warnings.simplefilter(\"ignore\")\n",
    "warnings.simplefilter(action='ignore', category=FutureWarning)\n",
    "warnings.filterwarnings(\"ignore\", category=FutureWarning)\n",
    "warnings.filterwarnings(\"ignore\", category=matplotlib.cbook.mplDeprecation)\n",
    "\n",
    "# Imports para manipulacao de dados\n",
    "import pandas as pd\n",
    "import numpy as np\n",
    "\n",
    "# Import para visualizacao dos dados\n",
    "import matplotlib.pyplot as plt\n",
    "from matplotlib import pyplot\n",
    "\n",
    "# Imports de bibliotecas para treinamento de redes neurais convolucionais\n",
    "from keras.utils import to_categorical\n",
    "from keras.models import Sequential\n",
    "from keras.layers import Conv2D, MaxPool2D, Flatten, Input, Dense, Activation, Dropout\n",
    "from keras.callbacks import EarlyStopping\n"
   ]
  },
  {
   "cell_type": "code",
   "execution_count": 2,
   "metadata": {},
   "outputs": [
    {
     "name": "stdout",
     "output_type": "stream",
     "text": [
      "platform   1.0.8\n",
      "matplotlib 3.2.1\n",
      "numpy      1.18.2\n",
      "pandas     0.25.3\n",
      "py4j       0.10.7\n",
      "Desafio - Modulo 03 - Rodrigo\n"
     ]
    }
   ],
   "source": [
    "# Versões dos pacotes usados neste jupyter notebook\n",
    "%reload_ext watermark\n",
    "%watermark -a \"Desafio - Modulo 03 - Rodrigo\" --iversions"
   ]
  },
  {
   "cell_type": "markdown",
   "metadata": {},
   "source": [
    "## Carregar os dados"
   ]
  },
  {
   "cell_type": "code",
   "execution_count": 3,
   "metadata": {
    "_cell_guid": "79c7e3d0-c299-4dcb-8224-4455121ee9b0",
    "_uuid": "d629ff2d2480ee46fbb7e2d37f6b5fab8052498a"
   },
   "outputs": [
    {
     "name": "stdout",
     "output_type": "stream",
     "text": [
      "<class 'pandas.core.frame.DataFrame'>\n",
      "RangeIndex: 42000 entries, 0 to 41999\n",
      "Columns: 785 entries, label to pixel783\n",
      "dtypes: int64(785)\n",
      "memory usage: 251.5 MB\n"
     ]
    }
   ],
   "source": [
    "# Carregando o dataset de treinamento com imagens do MNIST\n",
    "train = pd.read_csv('train.csv')\n",
    "train.info()"
   ]
  },
  {
   "cell_type": "markdown",
   "metadata": {},
   "source": [
    "## Criação e Validação dos Modelos de Machine Learning"
   ]
  },
  {
   "cell_type": "markdown",
   "metadata": {},
   "source": [
    "### Convolutional Neural Network"
   ]
  },
  {
   "cell_type": "code",
   "execution_count": 4,
   "metadata": {},
   "outputs": [
    {
     "name": "stdout",
     "output_type": "stream",
     "text": [
      "(42000, 28, 28, 1)\n"
     ]
    }
   ],
   "source": [
    "# Preparando os dados para treinamento do baseline\n",
    "\n",
    "X = train.drop(labels = ['label'], axis = 1) #other than labels (including pixels only) \n",
    "\n",
    "# Transformando o dataframe para formato numpy (é necessário para aplicar CNN)\n",
    "X = X.to_numpy()\n",
    "\n",
    "# Normalizacao dos valores no intervalo de [0,1]\n",
    "X = X/255\n",
    "\n",
    "# Redimensionamento da imagem para o formato 28x28\n",
    "# Transformar de (42000,784) pra (42000, 28, 28, 1)\n",
    "X = X.reshape(X.shape[0], 28, 28, 1)\n",
    "\n",
    "# Exibindo o shape\n",
    "print(X.shape)"
   ]
  },
  {
   "cell_type": "code",
   "execution_count": 6,
   "metadata": {},
   "outputs": [
    {
     "name": "stdout",
     "output_type": "stream",
     "text": [
      "(42000, 10)\n"
     ]
    }
   ],
   "source": [
    "# Definindo a variavel target\n",
    "y = train['label']\n",
    "\n",
    "# Transformando em formato categorico do keras (com 10 classes, com numeros de de 0 a 9)\n",
    "y = to_categorical(y.values, num_classes=10)\n",
    "\n",
    "# Exibindo o shape\n",
    "print(y.shape)"
   ]
  },
  {
   "cell_type": "code",
   "execution_count": 20,
   "metadata": {},
   "outputs": [
    {
     "data": {
      "image/png": "[encoded data removed]",
      "text/plain": [
       "<Figure size 432x288 with 4 Axes>"
      ]
     },
     "metadata": {
      "needs_background": "light"
     },
     "output_type": "display_data"
    }
   ],
   "source": [
    "# Exibindo algumas imagens como exemplo\n",
    "for i in range(4):\n",
    "    plt.subplot(420 + 1 + i)\n",
    "    plt.imshow(X[i][:,:,0])"
   ]
  },
  {
   "cell_type": "markdown",
   "metadata": {},
   "source": [
    "## Realizando o treinamento do modelo"
   ]
  },
  {
   "cell_type": "code",
   "execution_count": 23,
   "metadata": {},
   "outputs": [
    {
     "name": "stdout",
     "output_type": "stream",
     "text": [
      "Model: \"sequential_3\"\n",
      "_________________________________________________________________\n",
      "Layer (type)                 Output Shape              Param #   \n",
      "=================================================================\n",
      "conv2d_5 (Conv2D)            (None, 27, 27, 20)        100       \n",
      "_________________________________________________________________\n",
      "max_pooling2d_5 (MaxPooling2 (None, 13, 13, 20)        0         \n",
      "_________________________________________________________________\n",
      "conv2d_6 (Conv2D)            (None, 12, 12, 20)        1620      \n",
      "_________________________________________________________________\n",
      "max_pooling2d_6 (MaxPooling2 (None, 6, 6, 20)          0         \n",
      "_________________________________________________________________\n",
      "flatten_3 (Flatten)          (None, 720)               0         \n",
      "_________________________________________________________________\n",
      "dense_5 (Dense)              (None, 120)               86520     \n",
      "_________________________________________________________________\n",
      "dense_6 (Dense)              (None, 10)                1210      \n",
      "=================================================================\n",
      "Total params: 89,450\n",
      "Trainable params: 89,450\n",
      "Non-trainable params: 0\n",
      "_________________________________________________________________\n"
     ]
    }
   ],
   "source": [
    "# Criando a estrutura da rede neural convolucional\n",
    "cnn = Sequential()\n",
    "cnn.add(Conv2D(filters=20, kernel_size=(2, 2), activation='relu', input_shape=(28,28,1)))\n",
    "cnn.add(MaxPool2D())\n",
    "cnn.add(Conv2D(filters=20, kernel_size=(2, 2), activation='relu'))\n",
    "cnn.add(MaxPool2D())\n",
    "cnn.add(Flatten())\n",
    "cnn.add(Dense(units = 120, activation = 'relu'))\n",
    "cnn.add(Dense(units = 10, activation = 'softmax'))\n",
    "\n",
    "# Instanciando a funcao de perda e a metrica de desempenho\n",
    "cnn.compile('adam', 'categorical_crossentropy', metrics = ['acc'])\n",
    "\n",
    "# Definindo a parada mais cedo para evitar overfitting\n",
    "es = EarlyStopping(monitor='val_acc', mode='max', verbose=1, patience=10)\n",
    "\n",
    "# Exibindo o resumo\n",
    "cnn.summary()"
   ]
  },
  {
   "cell_type": "code",
   "execution_count": null,
   "metadata": {},
   "outputs": [],
   "source": [
    "# Realizando o treinamento do modelo CNN\n",
    "model_cnn = cnn.fit(X, y, validation_split = 0.2, epochs = 500, callbacks = [es])"
   ]
  },
  {
   "cell_type": "code",
   "execution_count": null,
   "metadata": {},
   "outputs": [],
   "source": [
    "# Exibindo desempenho do modelo\n",
    "plt.plot(model.history['acc'], label='train')\n",
    "plt.plot(model.history['val_acc'], label='val')\n",
    "plt.legend()\n",
    "plt.show()"
   ]
  }
 ],
 "metadata": {
  "kernelspec": {
   "display_name": "Python 3",
   "language": "python",
   "name": "python3"
  },
  "language_info": {
   "codemirror_mode": {
    "name": "ipython",
    "version": 3
   },
   "file_extension": ".py",
   "mimetype": "text/x-python",
   "name": "python",
   "nbconvert_exporter": "python",
   "pygments_lexer": "ipython3",
   "version": "3.7.7"
  }
 },
 "nbformat": 4,
 "nbformat_minor": 4
}
